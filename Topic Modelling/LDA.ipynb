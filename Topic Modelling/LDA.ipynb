{
 "cells": [
  {
   "metadata": {},
   "cell_type": "markdown",
   "source": "# Topic Modelling using Latent Dirichlet Allocation",
   "id": "4d16a8784ebdccf4"
  },
  {
   "metadata": {},
   "cell_type": "markdown",
   "source": "### Data Preparation and Preprocessing",
   "id": "bdca582351ceb602"
  },
  {
   "metadata": {
    "collapsed": true,
    "ExecuteTime": {
     "end_time": "2025-06-29T09:46:01.963641Z",
     "start_time": "2025-06-29T09:45:45.936768Z"
    }
   },
   "cell_type": "code",
   "source": [
    "import pandas as pd\n",
    "import re\n",
    "import nltk\n",
    "from nltk.corpus import stopwords\n",
    "from nltk.stem import WordNetLemmatizer\n",
    "from sklearn.feature_extraction.text import CountVectorizer\n",
    "from sklearn.decomposition import LatentDirichletAllocation\n",
    "from itertools import combinations\n",
    "import numpy as np\n",
    "\n",
    "# Download NLTK resources if not already present\n",
    "nltk.download('stopwords')\n",
    "nltk.download('wordnet')\n",
    "\n",
    "# Load your data\n",
    "df = pd.read_csv('../globalwarming_posts.csv')\n",
    "\n",
    "# Data preprocessing\n",
    "def preprocess(text):\n",
    "    text = text.lower()\n",
    "    text = re.sub(r'[^a-z\\s]', '', text)\n",
    "    tokens = text.split()\n",
    "    stop_words = set(stopwords.words('english'))\n",
    "    tokens = [w for w in tokens if w not in stop_words]\n",
    "    lemmatizer = WordNetLemmatizer()\n",
    "    tokens = [lemmatizer.lemmatize(w) for w in tokens]\n",
    "    return ' '.join(tokens)\n",
    "\n",
    "df['clean_text'] = df['text'].astype(str).apply(preprocess)\n",
    "\n",
    "# Vectorize\n",
    "vectorizer = CountVectorizer(max_df=0.95, min_df=2)\n",
    "X = vectorizer.fit_transform(df['clean_text'])"
   ],
   "id": "initial_id",
   "outputs": [
    {
     "name": "stderr",
     "output_type": "stream",
     "text": [
      "[nltk_data] Downloading package stopwords to\n",
      "[nltk_data]     C:\\Users\\jpads\\AppData\\Roaming\\nltk_data...\n",
      "[nltk_data]   Package stopwords is already up-to-date!\n",
      "[nltk_data] Downloading package wordnet to\n",
      "[nltk_data]     C:\\Users\\jpads\\AppData\\Roaming\\nltk_data...\n",
      "[nltk_data]   Package wordnet is already up-to-date!\n"
     ]
    }
   ],
   "execution_count": 2
  },
  {
   "metadata": {},
   "cell_type": "markdown",
   "source": "### Model Training, Topic Extraction, and Model Evaluation",
   "id": "d40c1ca77f177a5b"
  },
  {
   "metadata": {
    "ExecuteTime": {
     "end_time": "2025-06-29T09:49:16.920972Z",
     "start_time": "2025-06-29T09:49:15.996151Z"
    }
   },
   "cell_type": "code",
   "source": [
    "# LDA model\n",
    "lda = LatentDirichletAllocation(n_components=3, random_state=42)\n",
    "lda.fit(X)\n",
    "\n",
    "# Display topics\n",
    "def print_topics(model, feature_names, n_top_words=10):\n",
    "    for idx, topic in enumerate(model.components_):\n",
    "        print(f\"Topic {idx + 1}: \", \" \".join([feature_names[i] for i in topic.argsort()[:-n_top_words - 1:-1]]))\n",
    "\n",
    "print_topics(lda, vectorizer.get_feature_names_out())\n",
    "\n",
    "# Perplexity\n",
    "perplexity = lda.perplexity(X)\n",
    "print(f\"\\nModel Perplexity: {perplexity:.2f}\")\n",
    "\n",
    "# Simple coherence score: average pairwise word co-occurrence for top words in each topic\n",
    "def simple_coherence_score(X, feature_names, lda_model, top_n=10):\n",
    "    scores = []\n",
    "    Xc = (X.T * X)  # term-term co-occurrence matrix\n",
    "    Xc.setdiag(0)\n",
    "    for topic_idx, topic in enumerate(lda_model.components_):\n",
    "        top_indices = topic.argsort()[:-top_n - 1:-1]\n",
    "        # Compute average pairwise co-occurrence\n",
    "        pairs = list(combinations(top_indices, 2))\n",
    "        if not pairs:\n",
    "            continue\n",
    "        pair_scores = [Xc[i, j] for i, j in pairs]\n",
    "        if pair_scores:\n",
    "            scores.append(np.mean(pair_scores))\n",
    "    return np.mean(scores) if scores else 0\n",
    "\n",
    "coherence = simple_coherence_score(X, vectorizer.get_feature_names_out(), lda)\n",
    "print(f\"Simple Coherence Score (higher is better): {coherence:.2f}\")\n",
    "\n",
    "# from gensim.models.coherencemodel import CoherenceModel\n",
    "# from gensim.corpora.dictionary import Dictionary\n",
    "# # Evaluate: Coherence Score (using Gensim)\n",
    "# # Prepare data for Gensim\n",
    "# texts = [t.split() for t in df['clean_text']]\n",
    "# dictionary = Dictionary(texts)\n",
    "# corpus = [dictionary.doc2bow(text) for text in texts]\n",
    "#\n",
    "# # Get topics in Gensim format\n",
    "# topics = []\n",
    "# for topic_weights in lda.components_:\n",
    "#     top_words = [vectorizer.get_feature_names_out()[i] for i in topic_weights.argsort()[:-11:-1]]\n",
    "#     topics.append(top_words)\n",
    "#\n",
    "# # Compute coherence\n",
    "# coherence_model = CoherenceModel(topics=topics, texts=texts, dictionary=dictionary, coherence='c_v')\n",
    "# coherence = coherence_model.get_coherence()\n",
    "# print(f\"Model Coherence Score: {coherence:.2f}\")"
   ],
   "id": "1f520598bb3e4c05",
   "outputs": [
    {
     "name": "stdout",
     "output_type": "stream",
     "text": [
      "Topic 1:  warming global px think one climate carbon co scientist people\n",
      "Topic 2:  gif smilies year weather one like co see dont earth\n",
      "Topic 3:  warming vp global http fuel ice change energy fossil bear\n",
      "\n",
      "Model Perplexity: 817.59\n",
      "Simple Coherence Score (higher is better): 20.09\n"
     ]
    }
   ],
   "execution_count": 4
  }
 ],
 "metadata": {
  "kernelspec": {
   "display_name": "Python 3",
   "language": "python",
   "name": "python3"
  },
  "language_info": {
   "codemirror_mode": {
    "name": "ipython",
    "version": 2
   },
   "file_extension": ".py",
   "mimetype": "text/x-python",
   "name": "python",
   "nbconvert_exporter": "python",
   "pygments_lexer": "ipython2",
   "version": "2.7.6"
  }
 },
 "nbformat": 4,
 "nbformat_minor": 5
}
